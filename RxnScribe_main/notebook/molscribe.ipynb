{
 "cells": [
  {
   "cell_type": "code",
   "execution_count": 4,
   "metadata": {},
   "outputs": [
    {
     "name": "stdout",
     "output_type": "stream",
     "text": [
      "{\"smiles\": \"Fc1ccc(-c2cc(-c3ccccc3)n(-c3ccccc3)c2)cc1\", \"molfile\": \"\\n     RDKit          2D\\n\\n 14 15  0  0  0  0  0  0  0  0999 V2000\\n    4.8308   -8.5276    0.0000 R   0  0  0  0  0  0  0  0  0  0  0  0\\n    4.8308   -6.9528    0.0000 N   0  0  0  0  0  0  0  0  0  0  0  0\\n    3.5560   -6.0079    0.0000 C   0  0  0  0  0  0  0  0  0  0  0  0\\n    4.0257   -4.5118    0.0000 C   0  0  0  0  0  0  0  0  0  0  0  0\\n    3.0863   -3.2520    0.0000 C   0  0  0  0  0  0  0  0  0  0  0  0\\n    1.5432   -3.4094    0.0000 C   0  0  0  0  0  0  0  0  0  0  0  0\\n    0.6038   -2.1496    0.0000 C   0  0  0  0  0  0  0  0  0  0  0  0\\n    1.2748   -0.6535    0.0000 C   0  0  0  0  0  0  0  0  0  0  0  0\\n    0.2684    0.6063    0.0000 F   0  0  0  0  0  0  0  0  0  0  0  0\\n    2.8180   -0.4961    0.0000 C   0  0  0  0  0  0  0  0  0  0  0  0\\n    3.7573   -1.8346    0.0000 C   0  0  0  0  0  0  0  0  0  0  0  0\\n    5.6359   -4.5118    0.0000 C   0  0  0  0  0  0  0  0  0  0  0  0\\n    6.1056   -6.0079    0.0000 C   0  0  0  0  0  0  0  0  0  0  0  0\\n    7.6487   -6.5591    0.0000 R   0  0  0  0  0  0  0  0  0  0  0  0\\n  1  2  1  0\\n  2  3  1  0\\n  2 13  1  0\\n  3  4  2  0\\n  4  5  1  0\\n  4 12  1  0\\n  5  6  2  0\\n  5 11  1  0\\n  6  7  1  0\\n  7  8  2  0\\n  8  9  1  0\\n  8 10  1  0\\n 10 11  2  0\\n 12 13  2  0\\n 13 14  1  0\\nA    1\\nPh\\nA   14\\nPh\\nM  END\\n\", \"confidence\": 0.8978787649809284, \"atoms\": [{\"atom_symbol\": \"[Ph]\", \"x\": 0.5669291338582677, \"y\": 0.952755905511811, \"confidence\": 0.9122998755051972}, {\"atom_symbol\": \"N\", \"x\": 0.5669291338582677, \"y\": 0.7952755905511811, \"confidence\": 0.9056826233863831}, {\"atom_symbol\": \"C\", \"x\": 0.41732283464566927, \"y\": 0.7007874015748031, \"confidence\": 0.9101656675338745}, {\"atom_symbol\": \"C\", \"x\": 0.47244094488188976, \"y\": 0.5511811023622047, \"confidence\": 0.9083402156829834}, {\"atom_symbol\": \"C\", \"x\": 0.36220472440944884, \"y\": 0.4251968503937008, \"confidence\": 0.9087150692939758}, {\"atom_symbol\": \"C\", \"x\": 0.18110236220472442, \"y\": 0.4409448818897638, \"confidence\": 0.9082226753234863}, {\"atom_symbol\": \"C\", \"x\": 0.07086614173228346, \"y\": 0.31496062992125984, \"confidence\": 0.9097946882247925}, {\"atom_symbol\": \"C\", \"x\": 0.14960629921259844, \"y\": 0.16535433070866143, \"confidence\": 0.9067063927650452}, {\"atom_symbol\": \"F\", \"x\": 0.031496062992125984, \"y\": 0.03937007874015748, \"confidence\": 0.912613570690155}, {\"atom_symbol\": \"C\", \"x\": 0.33070866141732286, \"y\": 0.14960629921259844, \"confidence\": 0.9101009368896484}, {\"atom_symbol\": \"C\", \"x\": 0.4409448818897638, \"y\": 0.28346456692913385, \"confidence\": 0.9034236073493958}, {\"atom_symbol\": \"C\", \"x\": 0.6614173228346457, \"y\": 0.5511811023622047, \"confidence\": 0.9087499380111694}, {\"atom_symbol\": \"C\", \"x\": 0.7165354330708661, \"y\": 0.7007874015748031, \"confidence\": 0.906692385673523}, {\"atom_symbol\": \"[Ph]\", \"x\": 0.8976377952755905, \"y\": 0.7559055118110236, \"confidence\": 0.9182870805931388}], \"bonds\": [{\"bond_type\": \"single\", \"endpoint_atoms\": [0, 1], \"confidence\": 0.9999999403953552}, {\"bond_type\": \"single\", \"endpoint_atoms\": [1, 2], \"confidence\": 1.0}, {\"bond_type\": \"single\", \"endpoint_atoms\": [1, 12], \"confidence\": 0.9999994039535522}, {\"bond_type\": \"double\", \"endpoint_atoms\": [2, 3], \"confidence\": 1.0}, {\"bond_type\": \"single\", \"endpoint_atoms\": [3, 4], \"confidence\": 1.0}, {\"bond_type\": \"single\", \"endpoint_atoms\": [3, 11], \"confidence\": 0.9999980330467224}, {\"bond_type\": \"single\", \"endpoint_atoms\": [4, 5], \"confidence\": 0.9999999403953552}, {\"bond_type\": \"double\", \"endpoint_atoms\": [4, 10], \"confidence\": 0.9999997019767761}, {\"bond_type\": \"double\", \"endpoint_atoms\": [5, 6], \"confidence\": 0.9999999403953552}, {\"bond_type\": \"single\", \"endpoint_atoms\": [6, 7], \"confidence\": 0.9999969005584717}, {\"bond_type\": \"single\", \"endpoint_atoms\": [7, 8], \"confidence\": 1.0}, {\"bond_type\": \"double\", \"endpoint_atoms\": [7, 9], \"confidence\": 0.9999971389770508}, {\"bond_type\": \"single\", \"endpoint_atoms\": [9, 10], \"confidence\": 0.9999997019767761}, {\"bond_type\": \"double\", \"endpoint_atoms\": [11, 12], \"confidence\": 0.9999995827674866}, {\"bond_type\": \"single\", \"endpoint_atoms\": [12, 13], \"confidence\": 1.0}]}\n"
     ]
    }
   ],
   "source": [
    "import torch\n",
    "from molscribe import MolScribe\n",
    "from huggingface_hub import hf_hub_download\n",
    "import json\n",
    "\n",
    "ckpt_path = hf_hub_download('yujieq/MolScribe', 'swin_base_char_aux_1m.pth')\n",
    "image_path = 'C:\\\\programming\\\\urop\\\\RxnScribe-main\\\\assets\\\\example.png'\n",
    "\n",
    "model = MolScribe(ckpt_path, device=torch.device('cpu'))\n",
    "output = model.predict_image_file(image_path, return_atoms_bonds=True, return_confidence=True)\n",
    "\n",
    "print(json.dumps(output))"
   ]
  }
 ],
 "metadata": {
  "kernelspec": {
   "display_name": "uropEnv",
   "language": "python",
   "name": "python3"
  },
  "language_info": {
   "codemirror_mode": {
    "name": "ipython",
    "version": 3
   },
   "file_extension": ".py",
   "mimetype": "text/x-python",
   "name": "python",
   "nbconvert_exporter": "python",
   "pygments_lexer": "ipython3",
   "version": "3.8.0"
  }
 },
 "nbformat": 4,
 "nbformat_minor": 2
}
